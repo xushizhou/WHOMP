{
 "cells": [
  {
   "cell_type": "markdown",
   "metadata": {},
   "source": [
    "## Diverse Subgroup on Graphs"
   ]
  },
  {
   "cell_type": "code",
   "execution_count": 4,
   "metadata": {},
   "outputs": [],
   "source": [
    "import random\n",
    "import numpy as np \n",
    "import pandas as pd\n",
    "import matplotlib.pyplot as plt\n",
    "import seaborn as sns\n",
    "import scipy\n",
    "import scipy.stats as st\n",
    "import ot\n",
    "import matplotlib.pyplot as plt\n",
    "import networkx as nx\n",
    "import os\n",
    "from sklearn.datasets import make_blobs\n",
    "from sklearn.cluster import KMeans\n",
    "from scipy import linalg\n",
    "from sklearn import datasets\n",
    "from sklearn.manifold import TSNE\n",
    "from sklearn.manifold import spectral_embedding\n",
    "from sklearn.preprocessing import StandardScaler\n",
    "from sklearn.datasets import load_iris\n",
    "from sklearn.linear_model import LogisticRegression\n",
    "from sklearn.linear_model import LinearRegression\n",
    "from scipy.linalg import sqrtm\n",
    "from scipy.spatial.distance import cdist\n",
    "from scipy.optimize import linear_sum_assignment\n",
    "from scipy.stats import wasserstein_distance\n",
    "from sklearn import svm\n",
    "from k_means_constrained import KMeansConstrained\n",
    "\n",
    "# Input data files are available in the read-only \"../input/\" directory\n",
    "# For example, running this (by clicking run or pressing Shift+Enter) will list all files under the input directory\n",
    "\n",
    "for dirname, _, filenames in os.walk('/kaggle/input'):\n",
    "    for filename in filenames:\n",
    "        print(os.path.join(dirname, filename))\n",
    "\n",
    "# Input data files are available in the read-only \"../input/\" directory\n",
    "# For example, running this (by clicking run or pressing Shift+Enter) will list all files under the input directory\n",
    "\n",
    "import os\n",
    "for dirname, _, filenames in os.walk('/kaggle/input'):\n",
    "    for filename in filenames:\n",
    "        print(os.path.join(dirname, filename))"
   ]
  },
  {
   "cell_type": "markdown",
   "metadata": {},
   "source": [
    "## WHOMP Implementation"
   ]
  },
  {
   "cell_type": "code",
   "execution_count": 5,
   "metadata": {},
   "outputs": [],
   "source": [
    "def PseudoBarycenter(dependent, sensitive, threshhold):\n",
    "    X_mean = []\n",
    "    X_cov = []\n",
    "    OT_Map = []\n",
    "    X_dim = dependent.shape[1]\n",
    "    Z_range = len(set(sensitive))\n",
    "    X_ave = np.average(dependent, axis = 0)\n",
    "\n",
    "    for i in range(Z_range):\n",
    "        X_mean.append(np.average(dependent[sensitive == i], axis = 0))\n",
    "        X_cov.append(np.cov(dependent[sensitive == i].T))\n",
    "\n",
    "    X_barcov = np.random.rand(X_dim,X_dim)\n",
    "    eps = 1000\n",
    "    while eps > threshhold:\n",
    "        X_new = np.zeros((X_dim, X_dim))\n",
    "        for i in range(Z_range):\n",
    "            X_new = X_new + (1/Z_range) * sqrtm(sqrtm(X_barcov) @ X_cov[i] @ sqrtm(X_barcov))\n",
    "        eps = np.linalg.norm(X_new - X_barcov)\n",
    "        X_barcov = X_new\n",
    "\n",
    "    X_bar = np.zeros(dependent.shape)\n",
    "    for i in range(Z_range):\n",
    "        transport = np.linalg.inv(sqrtm(X_cov[i])) @ sqrtm( sqrtm(X_cov[i]) @ X_barcov @ sqrtm(X_cov[i]) ) @ np.linalg.inv(sqrtm(X_cov[i]))\n",
    "        OT_Map.append(transport)\n",
    "        X_bar[sensitive == i] = (dependent[sensitive == i] - X_mean[i]) @ transport.T + X_ave\n",
    "\n",
    "    return X_bar\n",
    "\n",
    "def RandomPartition(X_toy, subgroup_number):\n",
    "    random_index = np.zeros(len(X_toy))\n",
    "    index = np.arange(len(X_toy))\n",
    "    random.shuffle(index)\n",
    "    random_subgroup = np.array_split(index, subgroup_number)\n",
    "    for i in range(subgroup_number):\n",
    "        random_index[random_subgroup[i]] = i\n",
    "    return random_index\n",
    "\n",
    "def Barycenter_Fixed_Point_LP(data, sensitive, threshhold):\n",
    "\n",
    "    ## Initialization\n",
    "    data_card, feature_dim = data.shape\n",
    "    # Pick centroid as the overall average\n",
    "    data_mean = np.average(data, axis = 0)\n",
    "    sensitive_var_list = []\n",
    "    sensitive_group_card_list = []\n",
    "    # Pick variance as the smallest L2 norm among all sensitive groups\n",
    "    sensitive_label = list(set(sensitive))\n",
    "    sensitive_card = len(sensitive_label)\n",
    "    for i in range(sensitive_card):\n",
    "        sensitive_group = data[sensitive == sensitive_label[i],:]\n",
    "        sensitive_group_card_list.append(sensitive_group.shape[0])\n",
    "        sensitive_var_list.append(np.average(np.linalg.norm(sensitive_group,axis = 1)**2)**0.5)\n",
    "    if len(set(sensitive_group_card_list)) > 1:\n",
    "        return \"Sensitive groups require to share the same cardinality.\"\n",
    "        \n",
    "    sensitive_group_card = sensitive_group_card_list[0]\n",
    "    min_var = min(sensitive_var_list)\n",
    "    # sample from Gaussian as initilization\n",
    "    X_bar = np.random.multivariate_normal(data_mean, min_var*np.identity(feature_dim), sensitive_group_card)\n",
    "\n",
    "    ## Iterative method to find the barycenter\n",
    "    eps = threshhold + 1\n",
    "    max_iter = 5000\n",
    "    iter = 0\n",
    "    while eps > threshhold and iter < max_iter:\n",
    "        X_bar_new = np.zeros(X_bar.shape)\n",
    "        X_bar_index = np.arange(sensitive_group_card)\n",
    "        # Find the OT matching from X_bar to each sensitive group, then find the centroid of the matched points to update the barycenter\n",
    "        match_list = []\n",
    "        for i in range(sensitive_card):\n",
    "            sensitive_group_index = np.where(sensitive == sensitive_label[i])[0]\n",
    "            sensitive_group = data[sensitive_group_index,:]\n",
    "            density_group = density_Xbar = np.ones(sensitive_group_card)\n",
    "            cost_matrix = ot.dist(X_bar, sensitive_group)\n",
    "            plan = np.array(ot.emd(density_Xbar, density_group, cost_matrix),dtype=int)\n",
    "            match_index = plan @ X_bar_index\n",
    "            match_list.append(sensitive_group_index[match_index])\n",
    "            for j in range(sensitive_group_card):\n",
    "                X_bar_new[j,:] += sensitive_group[match_index[j],:]\n",
    "        X_bar_new = X_bar_new/sensitive_card\n",
    "\n",
    "        # Update the distance between X_bar and the new one for the stop criteria\n",
    "        cost_matrix_eps = ot.dist(X_bar, X_bar_new)\n",
    "        plan_eps = np.array(ot.emd(density_Xbar/sensitive_group_card, density_group/sensitive_group_card, cost_matrix))\n",
    "        eps = np.sqrt(np.sum(cost_matrix_eps*plan_eps))\n",
    "        #var_Xbar = np.average(np.linalg.norm(X_bar, axis = 1)**2)**0.5\n",
    "        #var_Xbar_new = np.average(np.linalg.norm(X_bar_new, axis = 1)**2)**0.5\n",
    "        #eps = abs(var_Xbar - var_Xbar_new)\n",
    "        iter += 1\n",
    "        X_bar = X_bar_new\n",
    "        match_list = (np.array(match_list)).T\n",
    "    \n",
    "    return X_bar, match_list\n",
    "\n",
    "def WHOMP_LP(data, subgroup_number, threshold):\n",
    "    sample_size = data.shape[0]\n",
    "    clf = KMeansConstrained(n_clusters= int(sample_size/subgroup_number),size_min=subgroup_number,size_max=subgroup_number,n_init = 500, max_iter = 10000, tol = 0.000000001, random_state=None)\n",
    "    clf.fit_predict(data)\n",
    "    label = clf.labels_\n",
    "    barycenter, OT_plan_list = Barycenter_Fixed_Point_LP(data, label, threshold)\n",
    "    matched_list = OT_plan_list\n",
    "    return barycenter, matched_list\n",
    "\n",
    "def RandomAntiClustering_Exact(data, subgroup_number):\n",
    "    sample_size = data.shape[0]\n",
    "    clf = KMeansConstrained(n_clusters= int(sample_size/subgroup_number),size_min=subgroup_number,size_max=subgroup_number,n_init = 500, max_iter = 10000, tol = 0.000000001, random_state=None)\n",
    "    clf.fit_predict(data)\n",
    "    label = clf.labels_\n",
    "    anticluster_index = np.zeros(sample_size)-1\n",
    "    for i in range(len(set(label))):\n",
    "        index_i = np.where(label == i)[0]\n",
    "        random.shuffle(index_i)\n",
    "        index_i_select = np.array_split(index_i, subgroup_number)\n",
    "        for j in range(subgroup_number):\n",
    "            anticluster_index[index_i_select[j]] = j\n",
    "\n",
    "    return anticluster_index"
   ]
  },
  {
   "cell_type": "markdown",
   "metadata": {},
   "source": [
    "## Pocock and Simon's Covariate-adaptive Randomizatiom Implementation"
   ]
  },
  {
   "cell_type": "code",
   "execution_count": 6,
   "metadata": {},
   "outputs": [],
   "source": [
    "class PocockSimonsMinimizationMultiTreatment:\n",
    "    def __init__(self, covariates, treatments, num_treatments, imbalance_prob=0.8):\n",
    "        \"\"\"\n",
    "        Initializes the Pocock and Simon's minimization class for multiple treatments.\n",
    "\n",
    "        Parameters:\n",
    "        - covariates: List of tuples containing the covariate values for each subject so far.\n",
    "        - treatments: List containing the treatment assignments (integers starting from 0) for each subject so far.\n",
    "        - num_treatments: The number of treatment groups.\n",
    "        - imbalance_prob: Probability of assigning to the treatment that minimizes imbalance (default 0.8).\n",
    "        \"\"\"\n",
    "        self.covariates = np.array(covariates)\n",
    "        self.treatments = np.array(treatments)\n",
    "        self.num_treatments = num_treatments\n",
    "        self.imbalance_prob = imbalance_prob\n",
    "\n",
    "    def calculate_imbalance_score(self, treatment, new_covariate):\n",
    "        \"\"\"\n",
    "        Calculate imbalance score for a given potential treatment assignment.\n",
    "\n",
    "        Parameters:\n",
    "        - treatment: Treatment group being evaluated (integer starting from 0).\n",
    "        - new_covariate: Covariates of the new subject.\n",
    "\n",
    "        Returns:\n",
    "        - Imbalance score.\n",
    "        \"\"\"\n",
    "        imbalance_score = 0\n",
    "\n",
    "        # Iterate over each covariate\n",
    "        for i in range(self.covariates.shape[1]):\n",
    "            treatment_sums = []\n",
    "            for t in range(self.num_treatments):\n",
    "                existing_sum = np.sum(self.covariates[self.treatments == t, i])\n",
    "                if t == treatment:\n",
    "                    existing_sum += new_covariate[i]\n",
    "                treatment_sums.append(existing_sum)\n",
    "            \n",
    "            # Calculate imbalance as the range (max - min) of sums\n",
    "            imbalance_score += max(treatment_sums) - min(treatment_sums)\n",
    "\n",
    "        return imbalance_score\n",
    "\n",
    "    def assign_treatment(self, new_covariate):\n",
    "        \"\"\"\n",
    "        Assign treatment to a new subject based on Pocock and Simon's method with multiple treatments.\n",
    "\n",
    "        Parameters:\n",
    "        - new_covariate: Covariates of the new subject.\n",
    "\n",
    "        Returns:\n",
    "        - Treatment assignment (integer representing the treatment group).\n",
    "        \"\"\"\n",
    "        imbalance_scores = []\n",
    "        \n",
    "        # Calculate imbalance scores for each possible treatment group\n",
    "        for t in range(self.num_treatments):\n",
    "            imbalance_score = self.calculate_imbalance_score(t, new_covariate)\n",
    "            imbalance_scores.append(imbalance_score)\n",
    "        \n",
    "        # Find the treatment with the minimum imbalance score\n",
    "        min_score = min(imbalance_scores)\n",
    "        min_treatments = [t for t, score in enumerate(imbalance_scores) if score == min_score]\n",
    "        \n",
    "        if len(min_treatments) == 1:\n",
    "            best_treatment = min_treatments[0]\n",
    "        else:\n",
    "            best_treatment = np.random.choice(min_treatments)  # Randomly choose among the best\n",
    "        \n",
    "        # Assign with imbalance_prob to the best treatment, otherwise to a random one\n",
    "        if np.random.rand() < self.imbalance_prob:\n",
    "            return best_treatment\n",
    "        else:\n",
    "            return np.random.choice(range(self.num_treatments))\n",
    "        \n",
    "class MinimizationAlgorithm:\n",
    "    def __init__(self, num_treatments, max_group_size):\n",
    "        self.num_treatments = num_treatments\n",
    "        self.max_group_size = max_group_size\n",
    "        self.group_sizes = np.zeros(num_treatments)\n",
    "    \n",
    "    def assign_treatment(self, covariate, group, treatment):\n",
    "        # Pocock-Simon minimization logic, adding constraint for group sizes\n",
    "        # Example placeholder (modify with actual minimization logic)\n",
    "        eligible_treatments = [i for i in range(self.num_treatments) if self.group_sizes[i] < self.max_group_size]\n",
    "        if not eligible_treatments:\n",
    "            raise ValueError(\"All groups are full.\")\n",
    "\n",
    "        # Minimize discrepancy for eligible treatments\n",
    "        # Here you would calculate imbalance for eligible treatments\n",
    "        assigned_treatment = random.choice(eligible_treatments)  # Replace this with minimization logic\n",
    "        \n",
    "        # Update the group sizes\n",
    "        self.group_sizes[assigned_treatment] += 1\n",
    "        return assigned_treatment\n",
    "\n",
    "def Pocock_Simon_minimization(covariates, num_treatments):\n",
    "    treatment_assignment = np.zeros(covariates.shape[0], dtype=int)\n",
    "    index_shuffle = np.arange(covariates.shape[0])\n",
    "    random.shuffle(index_shuffle)\n",
    "    \n",
    "    # Set the maximum group size for balanced groups\n",
    "    max_group_size = covariates.shape[0] // num_treatments\n",
    "    \n",
    "    # Initialize treatment assignments for the first few participants\n",
    "    ini_treatment = np.arange(num_treatments)\n",
    "    treatment_assignment[index_shuffle[:num_treatments]] = ini_treatment\n",
    "    \n",
    "    # Create the minimization algorithm instance with group size enforcement\n",
    "    minimization = MinimizationAlgorithm(num_treatments=num_treatments, max_group_size=max_group_size)\n",
    "    \n",
    "    # Update the group sizes for the initial assignments\n",
    "    minimization.group_sizes += 1  # As each treatment got 1 participant\n",
    "    \n",
    "    # Start assigning the rest of the participants\n",
    "    for i in range(num_treatments, covariates.shape[0]):\n",
    "        # Subset of participants assigned so far\n",
    "        treatment = treatment_assignment[index_shuffle[:i]]\n",
    "        group = covariates[index_shuffle[:i], :]\n",
    "        \n",
    "        # Assign the next participant, enforcing group size balancing\n",
    "        assigned_treatment = minimization.assign_treatment(covariates[index_shuffle[i], :], group, treatment)\n",
    "        treatment_assignment[index_shuffle[i]] = assigned_treatment\n",
    "    \n",
    "    return treatment_assignment\n"
   ]
  },
  {
   "cell_type": "markdown",
   "metadata": {},
   "source": [
    "## Comparison Test Implementation"
   ]
  },
  {
   "cell_type": "code",
   "execution_count": 7,
   "metadata": {},
   "outputs": [],
   "source": [
    "def HoldoutSet(X, y, holdoutindex):\n",
    "    X_holdout = X[holdoutindex == 1]\n",
    "    X_comp = X[holdoutindex != 1]\n",
    "    y_holdout = y[holdoutindex == 1]\n",
    "    y_comp = y[holdoutindex != 1]\n",
    "    return X_holdout, X_comp, y_holdout, y_comp\n",
    "\n",
    "def RandomSubgroupSet(X, y, subgroupindex):\n",
    "    shuffle = np.arange((len(set(subgroupindex))))\n",
    "    random.shuffle(shuffle)\n",
    "    X_holdout = X[subgroupindex == shuffle[1]]\n",
    "    X_comp = X[subgroupindex == shuffle[0]]\n",
    "    y_holdout = y[subgroupindex == shuffle[1]]\n",
    "    y_comp = y[subgroupindex == shuffle[0]]\n",
    "    return X_holdout, X_comp, y_holdout, y_comp\n",
    "\n",
    "def RandomSubgroupSet_Complement(X, y, subgroupindex):\n",
    "    shuffle = np.arange((len(set(subgroupindex))))\n",
    "    random.shuffle(shuffle)\n",
    "    X_holdout = X[subgroupindex == shuffle[1]]\n",
    "    X_comp = X[subgroupindex != shuffle[1]]\n",
    "    y_holdout = y[subgroupindex == shuffle[1]]\n",
    "    y_comp = y[subgroupindex != shuffle[1]]\n",
    "    return X_holdout, X_comp, y_holdout, y_comp"
   ]
  },
  {
   "cell_type": "markdown",
   "metadata": {
    "id": "D-qyrGEL3UQz"
   },
   "source": [
    "## Loading the graph data."
   ]
  },
  {
   "cell_type": "code",
   "execution_count": 52,
   "metadata": {},
   "outputs": [
    {
     "data": {
      "text/plain": [
       "(60, 2)"
      ]
     },
     "execution_count": 52,
     "metadata": {},
     "output_type": "execute_result"
    }
   ],
   "source": [
    "sizes = [10, 20, 30]\n",
    "probs = [[0.6, 0.2, 0.2], [0.2, 0.6, 0.2], [0.2, 0.2, 0.6]]\n",
    "G = nx.stochastic_block_model(sizes, probs, seed=0)\n",
    "\n",
    "adj_matrix = nx.to_numpy_array(G)\n",
    "G_embedded = spectral_embedding(adj_matrix, n_components=2, random_state=42, norm_laplacian=True)\n",
    "G_embedded.shape"
   ]
  },
  {
   "cell_type": "code",
   "execution_count": 53,
   "metadata": {},
   "outputs": [],
   "source": [
    "kmeans = KMeans(n_clusters=3, random_state=0, n_init=\"auto\").fit(G_embedded)\n",
    "label = kmeans.labels_"
   ]
  },
  {
   "cell_type": "code",
   "execution_count": 54,
   "metadata": {},
   "outputs": [
    {
     "data": {
      "text/plain": [
       "<function matplotlib.pyplot.show(close=None, block=None)>"
      ]
     },
     "execution_count": 54,
     "metadata": {},
     "output_type": "execute_result"
    },
    {
     "data": {
      "image/png": "[encoded data removed]",
      "text/plain": [
       "<Figure size 640x480 with 1 Axes>"
      ]
     },
     "metadata": {},
     "output_type": "display_data"
    }
   ],
   "source": [
    "for i in range(len(set(label))):\n",
    "    index = np.where(label == i)[0]\n",
    "    plt.scatter(G_embedded[index,0], G_embedded[index,1], )\n",
    "plt.show"
   ]
  },
  {
   "cell_type": "code",
   "execution_count": 93,
   "metadata": {},
   "outputs": [],
   "source": [
    "def SBM_spectrum_experiment(subgroup_number, repetition):\n",
    "\n",
    "    random_error_ave = []\n",
    "    PS_error_ave = []\n",
    "    WHOMP_random_error_ave = []\n",
    "    WHOMP_matching_error_ave = []\n",
    "\n",
    "    random_error_std = []\n",
    "    PS_error_std = []\n",
    "    WHOMP_random_error_std = []\n",
    "    WHOMP_matching_error_std = []\n",
    "    \n",
    "    for s in range(repetition):\n",
    "\n",
    "        sizes = [10, 20, 30]\n",
    "        probs = [[0.6, 0.2, 0.2], [0.2, 0.6, 0.2], [0.2, 0.2, 0.6]]\n",
    "        G = nx.stochastic_block_model(sizes, probs, seed=0)\n",
    "        spec_0 = nx.laplacian_spectrum(G)\n",
    "        density_0 = np.ones(len(spec_0))/len(spec_0)\n",
    "        adj_matrix = nx.to_numpy_array(G)\n",
    "        G_embedded = spectral_embedding(adj_matrix, n_components=2, random_state=42, norm_laplacian=True)\n",
    "        shuffle_index = np.arange(subgroup_number)\n",
    "\n",
    "        barycenter, barysample_index = WHOMP_LP(G_embedded, subgroup_number , 0.0000001)\n",
    "        np.random.shuffle(shuffle_index)\n",
    "        error = []\n",
    "        for i in range(subgroup_number):\n",
    "            subgraph = G.subgraph(barysample_index[shuffle_index[i]])\n",
    "            spec_1 = nx.laplacian_spectrum(subgraph)\n",
    "            density_1 = np.ones(len(spec_1))/len(spec_1)\n",
    "            cost_matrix = ot.dist(spec_0.reshape((len(spec_0),1)), spec_1.reshape((len(spec_1),1)))\n",
    "            plan = np.array(ot.emd(density_0,density_1,cost_matrix))\n",
    "            error.append(np.sqrt(np.sum(plan*cost_matrix)))\n",
    "        error_ave = np.average(error)\n",
    "        error_std = np.std(error)\n",
    "        WHOMP_matching_error_ave.append(error_ave)\n",
    "        WHOMP_matching_error_std.append(error_std)\n",
    "\n",
    "\n",
    "        anti_index = RandomAntiClustering_Exact(G_embedded, subgroup_number=subgroup_number)\n",
    "        np.random.shuffle(shuffle_index)\n",
    "        error = []\n",
    "        for i in range(subgroup_number):\n",
    "            subgraph = G.subgraph(np.where(anti_index == shuffle_index[i])[0])\n",
    "            spec_1 = nx.laplacian_spectrum(subgraph)\n",
    "            density_1 = np.ones(len(spec_1))/len(spec_1)\n",
    "            cost_matrix = ot.dist(spec_0.reshape((len(spec_0),1)), spec_1.reshape((len(spec_1),1)))\n",
    "            plan = np.array(ot.emd(density_0,density_1,cost_matrix))\n",
    "            error.append(np.sqrt(np.sum(plan*cost_matrix)))\n",
    "        error_ave = np.average(error)\n",
    "        error_std = np.std(error)\n",
    "        WHOMP_random_error_ave.append(error_ave)\n",
    "        WHOMP_random_error_std.append(error_std)\n",
    "\n",
    "        PS_index = Pocock_Simon_minimization(G_embedded, subgroup_number)\n",
    "        np.random.shuffle(shuffle_index)\n",
    "        error = []\n",
    "        for i in range(subgroup_number):\n",
    "            subgraph = G.subgraph(np.where(PS_index == shuffle_index[i])[0])\n",
    "            spec_1 = nx.laplacian_spectrum(subgraph)\n",
    "            density_1 = np.ones(len(spec_1))/len(spec_1)\n",
    "            cost_matrix = ot.dist(spec_0.reshape((len(spec_0),1)), spec_1.reshape((len(spec_1),1)))\n",
    "            plan = np.array(ot.emd(density_0,density_1,cost_matrix))\n",
    "            error.append(np.sqrt(np.sum(plan*cost_matrix)))\n",
    "        error_ave = np.average(error)\n",
    "        error_std = np.std(error)\n",
    "        PS_error_ave.append(error_ave)\n",
    "        PS_error_std.append(error_std)\n",
    "\n",
    "        random_index = RandomPartition(G_embedded, subgroup_number=subgroup_number)\n",
    "        np.random.shuffle(shuffle_index)\n",
    "        error = []\n",
    "        for i in range(subgroup_number):\n",
    "            subgraph = G.subgraph(np.where(random_index == shuffle_index[i])[0])\n",
    "            spec_1 = nx.laplacian_spectrum(subgraph)\n",
    "            density_1 = np.ones(len(spec_1))/len(spec_1)\n",
    "            cost_matrix = ot.dist(spec_0.reshape((len(spec_0),1)), spec_1.reshape((len(spec_1),1)))\n",
    "            plan = np.array(ot.emd(density_0,density_1,cost_matrix))\n",
    "            error.append(np.sqrt(np.sum(plan*cost_matrix)))\n",
    "        error_ave = np.average(error)\n",
    "        error_std = np.std(error)\n",
    "        random_error_ave.append(error_ave)\n",
    "        random_error_std.append(error_std)\n",
    "\n",
    "    random_ave = [np.average(random_error_ave), np.std(random_error_ave)]\n",
    "    PS_ave = [np.average(PS_error_ave), np.std(PS_error_ave)]\n",
    "    WHOMP_random_ave = [np.average(WHOMP_random_error_ave), np.std(WHOMP_random_error_ave)]\n",
    "    WHOMP_matching_ave = [np.average(WHOMP_matching_error_ave), np.std(WHOMP_matching_error_ave)]\n",
    "\n",
    "    random_std = [np.average(random_error_std), np.std(random_error_std)]\n",
    "    PS_std = [np.average(PS_error_std), np.std(PS_error_std)]\n",
    "    WHOMP_random_std = [np.average(WHOMP_random_error_std), np.std(WHOMP_random_error_std)]\n",
    "    WHOMP_matching_std = [np.average(WHOMP_matching_error_std), np.std(WHOMP_matching_error_std)]\n",
    "\n",
    "    Ave_list = [random_ave, PS_ave, WHOMP_random_ave, WHOMP_matching_ave]\n",
    "    Std_list = [random_std, PS_std, WHOMP_random_std, WHOMP_matching_std]\n",
    "    \n",
    "    return Ave_list, Std_list\n"
   ]
  },
  {
   "cell_type": "code",
   "execution_count": 97,
   "metadata": {},
   "outputs": [],
   "source": [
    "Ave_list, Std_list = SBM_spectrum_experiment(2, 50)"
   ]
  },
  {
   "cell_type": "markdown",
   "metadata": {},
   "source": [
    "## 2 Subgroups"
   ]
  },
  {
   "cell_type": "code",
   "execution_count": 98,
   "metadata": {},
   "outputs": [
    {
     "data": {
      "text/plain": [
       "[[11.071990655823727, 0.30666832388628845],\n",
       " [11.108264974504015, 0.3531683269445331],\n",
       " [11.275257400085358, 0.3055627200167952],\n",
       " [11.285786845936999, 0.19970004915668169]]"
      ]
     },
     "execution_count": 98,
     "metadata": {},
     "output_type": "execute_result"
    }
   ],
   "source": [
    "Ave_list"
   ]
  },
  {
   "cell_type": "code",
   "execution_count": 99,
   "metadata": {},
   "outputs": [
    {
     "data": {
      "text/plain": [
       "[[0.5997595818601472, 0.4288867808842967],\n",
       " [0.5061209097078558, 0.32987030276454365],\n",
       " [0.3981414171681243, 0.3030799691095593],\n",
       " [0.40997103918315053, 0.21257348091935183]]"
      ]
     },
     "execution_count": 99,
     "metadata": {},
     "output_type": "execute_result"
    }
   ],
   "source": [
    "Std_list"
   ]
  },
  {
   "cell_type": "markdown",
   "metadata": {},
   "source": [
    "## 6 subgroups"
   ]
  },
  {
   "cell_type": "code",
   "execution_count": 95,
   "metadata": {},
   "outputs": [
    {
     "data": {
      "text/plain": [
       "[[18.525234951841142, 0.2532710089668727],\n",
       " [18.591411618276638, 0.2930238079267556],\n",
       " [18.942140350084244, 0.22149900342034792],\n",
       " [19.05658492494176, 0.2492427110723422]]"
      ]
     },
     "execution_count": 95,
     "metadata": {},
     "output_type": "execute_result"
    }
   ],
   "source": [
    "Ave_list"
   ]
  },
  {
   "cell_type": "code",
   "execution_count": 96,
   "metadata": {},
   "outputs": [
    {
     "data": {
      "text/plain": [
       "[[0.5829933191444856, 0.1680260678717264],\n",
       " [0.6225685830198944, 0.21863145677292675],\n",
       " [0.5235156127395877, 0.16744053817749885],\n",
       " [0.43776060044832027, 0.13605018773631367]]"
      ]
     },
     "execution_count": 96,
     "metadata": {},
     "output_type": "execute_result"
    }
   ],
   "source": [
    "Std_list"
   ]
  },
  {
   "cell_type": "markdown",
   "metadata": {},
   "source": [
    "## 4 subgroups"
   ]
  },
  {
   "cell_type": "code",
   "execution_count": 91,
   "metadata": {},
   "outputs": [
    {
     "data": {
      "text/plain": [
       "[[16.703914616709618, 0.33064026052185475],\n",
       " [16.688822072983633, 0.28891685396100497],\n",
       " [17.04224930601647, 0.26157693853332975],\n",
       " [16.563064819927806, 0.20585125589170197]]"
      ]
     },
     "execution_count": 91,
     "metadata": {},
     "output_type": "execute_result"
    }
   ],
   "source": [
    "Ave_list"
   ]
  },
  {
   "cell_type": "code",
   "execution_count": 92,
   "metadata": {},
   "outputs": [
    {
     "data": {
      "text/plain": [
       "[[0.5724340691145823, 0.2511140208785977],\n",
       " [0.6451405033638403, 0.25321807653603745],\n",
       " [0.5724704265523468, 0.24124895841217758],\n",
       " [0.45509360892392786, 0.18203567182356645]]"
      ]
     },
     "execution_count": 92,
     "metadata": {},
     "output_type": "execute_result"
    }
   ],
   "source": [
    "Std_list"
   ]
  }
 ],
 "metadata": {
  "colab": {
   "collapsed_sections": [],
   "name": "Diverse Subgroups_via_W-2_Barycenter.ipynb",
   "provenance": []
  },
  "kernelspec": {
   "display_name": "Python 3",
   "language": "python",
   "name": "python3"
  },
  "language_info": {
   "codemirror_mode": {
    "name": "ipython",
    "version": 3
   },
   "file_extension": ".py",
   "mimetype": "text/x-python",
   "name": "python",
   "nbconvert_exporter": "python",
   "pygments_lexer": "ipython3",
   "version": "3.9.6"
  }
 },
 "nbformat": 4,
 "nbformat_minor": 1
}
