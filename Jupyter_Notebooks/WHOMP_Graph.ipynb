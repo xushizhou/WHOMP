{
 "cells": [
  {
   "cell_type": "markdown",
   "metadata": {},
   "source": [
    "# Test WHOMP on Graphs"
   ]
  },
  {
   "cell_type": "code",
   "execution_count": 1,
   "metadata": {},
   "outputs": [
    {
     "name": "stdout",
     "output_type": "stream",
     "text": [
      "/Users/shizhouxu/Desktop/SX_Workspace/WHOMP\n"
     ]
    },
    {
     "name": "stderr",
     "output_type": "stream",
     "text": [
      "/Users/shizhouxu/Desktop/SX_Workspace/diverse_subgroup_env/lib/python3.9/site-packages/IPython/core/magics/osm.py:417: UserWarning: using dhist requires you to install the `pickleshare` library.\n",
      "  self.shell.db['dhist'] = compress_dhist(dhist)[-100:]\n"
     ]
    }
   ],
   "source": [
    "cd /Users/shizhouxu/Desktop/SX_Workspace/WHOMP"
   ]
  },
  {
   "cell_type": "code",
   "execution_count": 2,
   "metadata": {},
   "outputs": [],
   "source": [
    "import numpy as np \n",
    "import matplotlib.pyplot as plt\n",
    "from sklearn.datasets import make_blobs\n",
    "import networkx as nx\n",
    "from sklearn.manifold import spectral_embedding\n",
    "from WHOMP import KMeansConstrained, WHOMP_Matching, WHOMP_Random, RandomPartition, Pocock_Simon_minimization\n",
    "from WHOMP_Test import SBM_spectrum_experiment"
   ]
  },
  {
   "cell_type": "markdown",
   "metadata": {
    "id": "D-qyrGEL3UQz"
   },
   "source": [
    "## Loading the graph data."
   ]
  },
  {
   "cell_type": "code",
   "execution_count": 3,
   "metadata": {},
   "outputs": [
    {
     "data": {
      "text/plain": [
       "(60, 2)"
      ]
     },
     "execution_count": 3,
     "metadata": {},
     "output_type": "execute_result"
    }
   ],
   "source": [
    "sizes = [10, 20, 30]\n",
    "probs = [[0.6, 0.2, 0.2], [0.2, 0.6, 0.2], [0.2, 0.2, 0.6]]\n",
    "G = nx.stochastic_block_model(sizes, probs, seed=0)\n",
    "\n",
    "adj_matrix = nx.to_numpy_array(G)\n",
    "G_embedded = spectral_embedding(adj_matrix, n_components=2, random_state=42, norm_laplacian=True)\n",
    "G_embedded.shape"
   ]
  },
  {
   "cell_type": "code",
   "execution_count": 4,
   "metadata": {},
   "outputs": [
    {
     "name": "stdout",
     "output_type": "stream",
     "text": [
      "Average Error List:\n",
      "Subgroup 2: [[11.112534654382225, 0.37224065157364006], [11.089881524311572, 0.292616438237883], [11.29350289223537, 0.25759628043987287], [11.303991800676533, 0.21589533523950838]]\n",
      "Subgroup 4: [[16.649673683111168, 0.27866783656930244], [16.68124950522576, 0.274884683925881], [17.024865961324988, 0.26581580012167744], [16.601092796668638, 0.1756924121818]]\n",
      "Subgroup 6: [[18.575548829988627, 0.2491750219766861], [18.586200926044413, 0.2353006572040401], [18.918643127909412, 0.21537044750357157], [19.07319838474738, 0.2002422844053584]]\n",
      "\n",
      "Standard Deviation List:\n",
      "Subgroup 2: [[0.4854894787662051, 0.35191682687139403], [0.44389174342015075, 0.37292428178258985], [0.36721097576138484, 0.2881600484338506], [0.42362338229057805, 0.2206177024569786]]\n",
      "Subgroup 4: [[0.66935626109, 0.2589548146669398], [0.626643929267138, 0.27554359420009034], [0.520214250565552, 0.20617087050380098], [0.5538950799324084, 0.1854789227975694]]\n",
      "Subgroup 6: [[0.6228979957682214, 0.20801827446387625], [0.6314647768469481, 0.2039085187547992], [0.5121519178870569, 0.15383189779013873], [0.43658203005335394, 0.13193232739663377]]\n"
     ]
    }
   ],
   "source": [
    "def run_sbm_experiment():\n",
    "    \"\"\"\n",
    "    Run the SBM experiment for different subgroup numbers and repetitions.\n",
    "    \"\"\"\n",
    "    Ave_list = []\n",
    "    Std_list = []\n",
    "\n",
    "    for i in range(3):\n",
    "        ave, std = SBM_spectrum_experiment((i + 1) * 2, 100)\n",
    "        Ave_list.append(ave)\n",
    "        Std_list.append(std)\n",
    "\n",
    "    # Output results\n",
    "    print(\"Average Error List:\")\n",
    "    for i, ave in enumerate(Ave_list):\n",
    "        print(f\"Subgroup {2*(i+1)}: {ave}\")\n",
    "\n",
    "    print(\"\\nStandard Deviation List:\")\n",
    "    for i, std in enumerate(Std_list):\n",
    "        print(f\"Subgroup {2*(i+1)}: {std}\")\n",
    "\n",
    "if __name__ == \"__main__\":\n",
    "    run_sbm_experiment()"
   ]
  }
 ],
 "metadata": {
  "colab": {
   "collapsed_sections": [],
   "name": "Diverse Subgroups_via_W-2_Barycenter.ipynb",
   "provenance": []
  },
  "kernelspec": {
   "display_name": "Python 3",
   "language": "python",
   "name": "python3"
  },
  "language_info": {
   "codemirror_mode": {
    "name": "ipython",
    "version": 3
   },
   "file_extension": ".py",
   "mimetype": "text/x-python",
   "name": "python",
   "nbconvert_exporter": "python",
   "pygments_lexer": "ipython3",
   "version": "3.9.6"
  }
 },
 "nbformat": 4,
 "nbformat_minor": 1
}
